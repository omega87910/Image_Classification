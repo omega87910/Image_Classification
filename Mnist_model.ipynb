{
 "cells": [
  {
   "cell_type": "code",
   "execution_count": null,
   "metadata": {},
   "outputs": [],
   "source": [
    "import os\n",
    "import numpy\n",
    "import random\n",
    "from tensorflow.keras.preprocessing.image import img_to_array,load_img\n",
    "from tensorflow.keras.utils import to_categorical\n",
    "from matplotlib import pyplot"
   ]
  },
  {
   "cell_type": "code",
   "execution_count": null,
   "metadata": {},
   "outputs": [],
   "source": [
    "## 訓練、測試資料集、輸出位置\n",
    "TRAIN_IMAGES_ROOT_PATH = \"mnist_png/training/\"\n",
    "TEST_IMAGES_ROOT_PATH = \"mnist_png/testing/\""
   ]
  },
  {
   "cell_type": "code",
   "execution_count": null,
   "metadata": {},
   "outputs": [],
   "source": [
    "## 全部類別\n",
    "all_classes = os.listdir(TRAIN_IMAGES_ROOT_PATH)\n",
    "all_classes"
   ]
  },
  {
   "cell_type": "code",
   "execution_count": null,
   "metadata": {},
   "outputs": [],
   "source": [
    "## 讀取所有類別的圖片\n",
    "train_images = []\n",
    "train_classes = []\n",
    "test_images = []\n",
    "test_classes = []\n",
    "\n",
    "for classes in all_classes:\n",
    "    train_image_array = os.listdir(TRAIN_IMAGES_ROOT_PATH+classes) ##取得在訓練資料中,每個類別裡的圖片\n",
    "    test_image_array = os.listdir(TEST_IMAGES_ROOT_PATH+classes) ##取得在測試資料中，每個類別裡的圖片\n",
    "    print(\"正在讀取類別\"+classes+\"的圖片\")\n",
    "    for image_name in train_image_array:\n",
    "        image_path = TRAIN_IMAGES_ROOT_PATH+classes+\"/\"+image_name \n",
    "        image = load_img(image_path,target_size=(28,28)) ## 讀取圖片\n",
    "        image = img_to_array(image) ## 圖片轉換成像素點Array\n",
    "        train_images.append(image)\n",
    "        train_classes.append(classes)\n",
    "    for image_name in test_image_array:\n",
    "        image_path = TEST_IMAGES_ROOT_PATH+classes+\"/\"+image_name\n",
    "        image = load_img(image_path,target_size=(28,28,3)) ##讀取圖片\n",
    "        image = img_to_array(image)\n",
    "        test_classes.append(classes)\n",
    "        test_images.append(image)"
   ]
  },
  {
   "cell_type": "code",
   "execution_count": null,
   "metadata": {},
   "outputs": [],
   "source": [
    "test_data_length = len(test_classes)"
   ]
  },
  {
   "cell_type": "code",
   "execution_count": null,
   "metadata": {},
   "outputs": [],
   "source": [
    "# keras 輸入要求 numpy array\n",
    "X = numpy.array(train_images,dtype=\"float\") / 255.0 #把每個像素點縮至 0 ~ 1\n",
    "Y = numpy.array(train_classes)\n",
    "Y = to_categorical(Y) ## 類似one-hot-endcoding,類別 A =[1,0,0],類別 B =[0,1,0],類別 C =[0,0,1]\n",
    "val_X = numpy.array(test_images,dtype=\"float\") / 255.0\n",
    "val_Y = numpy.array(test_classes)\n",
    "val_Y = to_categorical(val_Y)"
   ]
  },
  {
   "cell_type": "code",
   "execution_count": null,
   "metadata": {},
   "outputs": [],
   "source": [
    "X"
   ]
  },
  {
   "cell_type": "code",
   "execution_count": null,
   "metadata": {},
   "outputs": [],
   "source": [
    "Y"
   ]
  },
  {
   "cell_type": "code",
   "execution_count": null,
   "metadata": {},
   "outputs": [],
   "source": [
    "from tensorflow.keras import Sequential\n",
    "from tensorflow.keras.layers import Dense,Flatten,Conv2D,MaxPool2D,Dropout\n",
    "model = Sequential()\n",
    "model.add(Conv2D(filters=32,kernel_size=(5,5),padding=\"same\",input_shape=(28,28,3),activation=\"relu\"))\n",
    "model.add(MaxPool2D(pool_size=(2,2)))\n",
    "model.add(Conv2D(filters=64,kernel_size=(5,5),padding=\"same\",activation=\"relu\"))\n",
    "model.add(MaxPool2D(pool_size=(2,2)))\n",
    "model.add(Dropout(0.2))\n",
    "model.add(Flatten())\n",
    "model.add(Dense(units=128,activation=\"relu\"))\n",
    "model.add(Dense(units=len(all_classes),activation=\"softmax\"))\n",
    "model.compile(optimizer=\"Adam\",loss=\"categorical_crossentropy\",metrics=['accuracy'])"
   ]
  },
  {
   "cell_type": "code",
   "execution_count": null,
   "metadata": {},
   "outputs": [],
   "source": [
    "history = model.fit(X,Y,validation_data=(val_X,val_Y),shuffle=True,epochs=5,batch_size=256,verbose=1)"
   ]
  },
  {
   "cell_type": "code",
   "execution_count": null,
   "metadata": {},
   "outputs": [],
   "source": [
    "print(history.history.keys())"
   ]
  },
  {
   "cell_type": "code",
   "execution_count": null,
   "metadata": {},
   "outputs": [],
   "source": [
    "pyplot.plot(history.history['acc'])\n",
    "pyplot.plot(history.history['val_acc'])\n",
    "pyplot.title('model accuracy')\n",
    "pyplot.ylabel('accuracy')\n",
    "pyplot.xlabel('epoch')\n",
    "pyplot.legend(['train', 'test'], loc='lower right')\n",
    "pyplot.show()"
   ]
  },
  {
   "cell_type": "code",
   "execution_count": null,
   "metadata": {},
   "outputs": [],
   "source": [
    "## 檢查是否Overfitting\n",
    "pyplot.plot(history.history['loss'])\n",
    "pyplot.plot(history.history['val_loss'])\n",
    "pyplot.title('model loss')\n",
    "pyplot.ylabel('loss')\n",
    "pyplot.xlabel('epoch')\n",
    "pyplot.legend(['train', 'test'], loc='upper right')\n",
    "pyplot.show()\n",
    "# 當兩者越來越分開，則代表有overfitting發生"
   ]
  },
  {
   "cell_type": "code",
   "execution_count": null,
   "metadata": {},
   "outputs": [],
   "source": [
    "result = model.predict(val_X)"
   ]
  },
  {
   "cell_type": "code",
   "execution_count": null,
   "metadata": {},
   "outputs": [],
   "source": [
    "prediction = numpy.argmax(result,axis=1)"
   ]
  },
  {
   "cell_type": "code",
   "execution_count": null,
   "metadata": {},
   "outputs": [],
   "source": [
    "prediction"
   ]
  },
  {
   "cell_type": "code",
   "execution_count": null,
   "metadata": {},
   "outputs": [],
   "source": [
    "pyplot.figure(figsize=(20,5))\n",
    "pyplot.plot(result)\n",
    "pyplot.ylabel('Predict')\n",
    "pyplot.xlabel('Data')\n",
    "pyplot.legend(all_classes, loc='upper left')\n",
    "pyplot.show()"
   ]
  },
  {
   "cell_type": "code",
   "execution_count": null,
   "metadata": {},
   "outputs": [],
   "source": [
    "fig , axes=pyplot.subplots(1,5,figsize=(10,10))\n",
    "for i in range(5):\n",
    "    index = random.randint(0,len(test_images)-1) \n",
    "    axes[i].set_title('Prediction : '+str(prediction[index]))\n",
    "    axes[i].imshow(test_images[index].astype('uint8'))\n",
    "    axes[i].set_xticks([])\n",
    "    axes[i].set_yticks([])\n",
    "pyplot.show()"
   ]
  }
 ],
 "metadata": {
  "kernelspec": {
   "display_name": "Python 3",
   "language": "python",
   "name": "python3"
  },
  "language_info": {
   "codemirror_mode": {
    "name": "ipython",
    "version": 3
   },
   "file_extension": ".py",
   "mimetype": "text/x-python",
   "name": "python",
   "nbconvert_exporter": "python",
   "pygments_lexer": "ipython3",
   "version": "3.7.3"
  }
 },
 "nbformat": 4,
 "nbformat_minor": 2
}
